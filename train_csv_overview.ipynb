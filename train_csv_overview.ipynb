{
 "cells": [
  {
   "cell_type": "code",
   "execution_count": 1,
   "metadata": {},
   "outputs": [],
   "source": [
    "import pandas as pd\n",
    "import numpy as np\n",
    "import datetime as dt\n",
    "import os\n",
    "import matplotlib.pyplot as plt\n",
    "import seaborn as sns\n",
    "import path"
   ]
  },
  {
   "cell_type": "code",
   "execution_count": 2,
   "metadata": {},
   "outputs": [],
   "source": [
    "os.chdir(path.path)"
   ]
  },
  {
   "cell_type": "markdown",
   "metadata": {},
   "source": [
    "# [Overview of Training Data](#section-title)"
   ]
  },
  {
   "cell_type": "code",
   "execution_count": 29,
   "metadata": {
    "collapsed": true
   },
   "outputs": [
    {
     "data": {
      "text/html": [
       "<div>\n",
       "<style scoped>\n",
       "    .dataframe tbody tr th:only-of-type {\n",
       "        vertical-align: middle;\n",
       "    }\n",
       "\n",
       "    .dataframe tbody tr th {\n",
       "        vertical-align: top;\n",
       "    }\n",
       "\n",
       "    .dataframe thead th {\n",
       "        text-align: right;\n",
       "    }\n",
       "</style>\n",
       "<table border=\"1\" class=\"dataframe\">\n",
       "  <thead>\n",
       "    <tr style=\"text-align: right;\">\n",
       "      <th></th>\n",
       "      <th>first_active_month</th>\n",
       "      <th>card_id</th>\n",
       "      <th>feature_1</th>\n",
       "      <th>feature_2</th>\n",
       "      <th>feature_3</th>\n",
       "      <th>target</th>\n",
       "    </tr>\n",
       "  </thead>\n",
       "  <tbody>\n",
       "    <tr>\n",
       "      <th>0</th>\n",
       "      <td>2017-06</td>\n",
       "      <td>C_ID_92a2005557</td>\n",
       "      <td>5</td>\n",
       "      <td>2</td>\n",
       "      <td>1</td>\n",
       "      <td>-0.820283</td>\n",
       "    </tr>\n",
       "    <tr>\n",
       "      <th>1</th>\n",
       "      <td>2017-01</td>\n",
       "      <td>C_ID_3d0044924f</td>\n",
       "      <td>4</td>\n",
       "      <td>1</td>\n",
       "      <td>0</td>\n",
       "      <td>0.392913</td>\n",
       "    </tr>\n",
       "    <tr>\n",
       "      <th>2</th>\n",
       "      <td>2016-08</td>\n",
       "      <td>C_ID_d639edf6cd</td>\n",
       "      <td>2</td>\n",
       "      <td>2</td>\n",
       "      <td>0</td>\n",
       "      <td>0.688056</td>\n",
       "    </tr>\n",
       "    <tr>\n",
       "      <th>3</th>\n",
       "      <td>2017-09</td>\n",
       "      <td>C_ID_186d6a6901</td>\n",
       "      <td>4</td>\n",
       "      <td>3</td>\n",
       "      <td>0</td>\n",
       "      <td>0.142495</td>\n",
       "    </tr>\n",
       "    <tr>\n",
       "      <th>4</th>\n",
       "      <td>2017-11</td>\n",
       "      <td>C_ID_cdbd2c0db2</td>\n",
       "      <td>1</td>\n",
       "      <td>3</td>\n",
       "      <td>0</td>\n",
       "      <td>-0.159749</td>\n",
       "    </tr>\n",
       "  </tbody>\n",
       "</table>\n",
       "</div>"
      ],
      "text/plain": [
       "  first_active_month          card_id  feature_1  feature_2  feature_3  \\\n",
       "0            2017-06  C_ID_92a2005557          5          2          1   \n",
       "1            2017-01  C_ID_3d0044924f          4          1          0   \n",
       "2            2016-08  C_ID_d639edf6cd          2          2          0   \n",
       "3            2017-09  C_ID_186d6a6901          4          3          0   \n",
       "4            2017-11  C_ID_cdbd2c0db2          1          3          0   \n",
       "\n",
       "     target  \n",
       "0 -0.820283  \n",
       "1  0.392913  \n",
       "2  0.688056  \n",
       "3  0.142495  \n",
       "4 -0.159749  "
      ]
     },
     "execution_count": 29,
     "metadata": {},
     "output_type": "execute_result"
    }
   ],
   "source": [
    "training_data = pd.read_csv(\"train.csv\")\n",
    "print(training_data.head())\n",
    "print(training_data.shape, training_data[\"feature_1\"].nunique(),training_data[\"feature_2\"].nunique(),training_data[\"feature_3\"].nunique())\n",
    "training_data.describe()"
   ]
  },
  {
   "cell_type": "code",
   "execution_count": 34,
   "metadata": {
    "collapsed": true
   },
   "outputs": [
    {
     "data": {
      "text/html": [
       "<div>\n",
       "<style scoped>\n",
       "    .dataframe tbody tr th:only-of-type {\n",
       "        vertical-align: middle;\n",
       "    }\n",
       "\n",
       "    .dataframe tbody tr th {\n",
       "        vertical-align: top;\n",
       "    }\n",
       "\n",
       "    .dataframe thead th {\n",
       "        text-align: right;\n",
       "    }\n",
       "</style>\n",
       "<table border=\"1\" class=\"dataframe\">\n",
       "  <thead>\n",
       "    <tr style=\"text-align: right;\">\n",
       "      <th></th>\n",
       "      <th>feature_1</th>\n",
       "      <th>feature_2</th>\n",
       "      <th>feature_3</th>\n",
       "      <th>target</th>\n",
       "    </tr>\n",
       "  </thead>\n",
       "  <tbody>\n",
       "    <tr>\n",
       "      <th>0</th>\n",
       "      <td>1</td>\n",
       "      <td>1</td>\n",
       "      <td>0</td>\n",
       "      <td>-0.225825</td>\n",
       "    </tr>\n",
       "    <tr>\n",
       "      <th>1</th>\n",
       "      <td>1</td>\n",
       "      <td>2</td>\n",
       "      <td>0</td>\n",
       "      <td>-0.304027</td>\n",
       "    </tr>\n",
       "    <tr>\n",
       "      <th>2</th>\n",
       "      <td>1</td>\n",
       "      <td>3</td>\n",
       "      <td>0</td>\n",
       "      <td>-0.543918</td>\n",
       "    </tr>\n",
       "    <tr>\n",
       "      <th>3</th>\n",
       "      <td>2</td>\n",
       "      <td>1</td>\n",
       "      <td>0</td>\n",
       "      <td>-0.409331</td>\n",
       "    </tr>\n",
       "    <tr>\n",
       "      <th>4</th>\n",
       "      <td>2</td>\n",
       "      <td>2</td>\n",
       "      <td>0</td>\n",
       "      <td>-0.302688</td>\n",
       "    </tr>\n",
       "    <tr>\n",
       "      <th>5</th>\n",
       "      <td>2</td>\n",
       "      <td>3</td>\n",
       "      <td>0</td>\n",
       "      <td>-0.310319</td>\n",
       "    </tr>\n",
       "    <tr>\n",
       "      <th>6</th>\n",
       "      <td>3</td>\n",
       "      <td>1</td>\n",
       "      <td>1</td>\n",
       "      <td>-0.266980</td>\n",
       "    </tr>\n",
       "    <tr>\n",
       "      <th>7</th>\n",
       "      <td>3</td>\n",
       "      <td>2</td>\n",
       "      <td>1</td>\n",
       "      <td>-0.296476</td>\n",
       "    </tr>\n",
       "    <tr>\n",
       "      <th>8</th>\n",
       "      <td>3</td>\n",
       "      <td>3</td>\n",
       "      <td>1</td>\n",
       "      <td>-0.569006</td>\n",
       "    </tr>\n",
       "    <tr>\n",
       "      <th>9</th>\n",
       "      <td>4</td>\n",
       "      <td>1</td>\n",
       "      <td>0</td>\n",
       "      <td>-0.413791</td>\n",
       "    </tr>\n",
       "    <tr>\n",
       "      <th>10</th>\n",
       "      <td>4</td>\n",
       "      <td>2</td>\n",
       "      <td>0</td>\n",
       "      <td>-0.405038</td>\n",
       "    </tr>\n",
       "    <tr>\n",
       "      <th>11</th>\n",
       "      <td>4</td>\n",
       "      <td>3</td>\n",
       "      <td>0</td>\n",
       "      <td>-0.381644</td>\n",
       "    </tr>\n",
       "    <tr>\n",
       "      <th>12</th>\n",
       "      <td>5</td>\n",
       "      <td>1</td>\n",
       "      <td>1</td>\n",
       "      <td>-0.561022</td>\n",
       "    </tr>\n",
       "    <tr>\n",
       "      <th>13</th>\n",
       "      <td>5</td>\n",
       "      <td>2</td>\n",
       "      <td>1</td>\n",
       "      <td>-0.407664</td>\n",
       "    </tr>\n",
       "  </tbody>\n",
       "</table>\n",
       "</div>"
      ],
      "text/plain": [
       "    feature_1  feature_2  feature_3    target\n",
       "0           1          1          0 -0.225825\n",
       "1           1          2          0 -0.304027\n",
       "2           1          3          0 -0.543918\n",
       "3           2          1          0 -0.409331\n",
       "4           2          2          0 -0.302688\n",
       "5           2          3          0 -0.310319\n",
       "6           3          1          1 -0.266980\n",
       "7           3          2          1 -0.296476\n",
       "8           3          3          1 -0.569006\n",
       "9           4          1          0 -0.413791\n",
       "10          4          2          0 -0.405038\n",
       "11          4          3          0 -0.381644\n",
       "12          5          1          1 -0.561022\n",
       "13          5          2          1 -0.407664"
      ]
     },
     "execution_count": 34,
     "metadata": {},
     "output_type": "execute_result"
    }
   ],
   "source": [
    "training_data.groupby([\"feature_1\", \"feature_2\", \"feature_3\"]).agg({\"target\":np.mean}).reset_index()"
   ]
  },
  {
   "cell_type": "markdown",
   "metadata": {},
   "source": [
    "## Annual variation of target by month\n",
    "* Maybe exclude months with small card count: Initial phases\n",
    "* There is clear difference in loyalty between users acquired over different months"
   ]
  },
  {
   "cell_type": "code",
   "execution_count": 107,
   "metadata": {
    "collapsed": true
   },
   "outputs": [
    {
     "name": "stdout",
     "output_type": "stream",
     "text": [
      "   first_active_month  card_id    target\n",
      "42            2015-06     1104 -0.659533\n",
      "43            2015-07     1393 -0.584633\n",
      "44            2015-08     1376 -1.215491\n",
      "45            2015-09     1494 -0.370241\n",
      "46            2015-10     1532 -0.789381\n",
      "47            2015-11     1582 -0.594212\n",
      "48            2015-12     2343 -0.500749\n",
      "49            2016-01     1711 -0.681889\n",
      "50            2016-02     1636 -0.705629\n",
      "51            2016-03     2005 -0.678806\n",
      "52            2016-04     2938 -0.400349\n",
      "53            2016-05     3314 -0.477909\n",
      "54            2016-06     4102 -0.653428\n",
      "55            2016-07     4188 -0.575884\n",
      "56            2016-08     4977 -0.477697\n",
      "57            2016-09     4410 -0.601538\n",
      "58            2016-10     5371 -0.479385\n",
      "59            2016-11     7222 -0.581667\n",
      "60            2016-12     9403 -0.646919\n",
      "61            2017-01     9605 -0.661516\n",
      "62            2017-02     8110 -0.647769\n",
      "63            2017-03     8271 -0.616756\n",
      "64            2017-04     8761 -0.498424\n",
      "65            2017-05     9168 -0.355261\n",
      "66            2017-06     9930 -0.351852\n",
      "67            2017-07    12363 -0.253669\n",
      "68            2017-08    13638 -0.186617\n",
      "69            2017-09    13878 -0.100882\n",
      "70            2017-10    13695 -0.038316\n",
      "71            2017-11    12930 -0.017814\n",
      "72            2017-12    10170 -0.051228\n",
      "    month  card_id    target\n",
      "0       1    12050 -0.650622\n",
      "1       2    10515 -0.647671\n",
      "2       3    11194 -0.659870\n",
      "3       4    12860 -0.504383\n",
      "4       5    13953 -0.419818\n",
      "5       6    15579 -0.456248\n",
      "6       7    18490 -0.368388\n",
      "7       8    20552 -0.347458\n",
      "8       9    20372 -0.242229\n",
      "9      10    21231 -0.222813\n",
      "10     11    22403 -0.263514\n",
      "11     12    22718 -0.372914\n"
     ]
    }
   ],
   "source": [
    "training_data_agg_by_month = training_data.groupby(\"first_active_month\").agg({\"card_id\":np.count_nonzero, \n",
    "                                                                              \"target\": np.mean}).reset_index()\n",
    "training_data[\"month\"] = training_data[\"first_active_month\"].apply(lambda x: int(x[5:7]))\n",
    "\n",
    "print(training_data_agg_by_month[training_data_agg_by_month[\"card_id\"]>1000])\n",
    "print(training_data.groupby(\"month\").agg({\"card_id\": np.count_nonzero, \"target\": np.mean}).reset_index())"
   ]
  },
  {
   "cell_type": "code",
   "execution_count": 82,
   "metadata": {},
   "outputs": [
    {
     "data": {
      "text/plain": [
       "((201917, 6), (191821, 6))"
      ]
     },
     "execution_count": 82,
     "metadata": {},
     "output_type": "execute_result"
    }
   ],
   "source": [
    "lower_quant, upper_quant = training_data[\"target\"].quantile(0.025), training_data[\"target\"].quantile(0.975)\n",
    "training_data_excluding_outliers = training_data.loc[training_data[\"target\"].between(lower_quant, upper_quant)]\n",
    "training_data.shape, training_data_excluding_outliers.shape"
   ]
  },
  {
   "cell_type": "markdown",
   "metadata": {},
   "source": [
    "## features vs loyalty score:\n",
    "* feature_1: loyalty socre decreases with increase in feature_1\n",
    "* feature_2:\n",
    "* feature_3:"
   ]
  },
  {
   "cell_type": "code",
   "execution_count": 94,
   "metadata": {},
   "outputs": [],
   "source": [
    "def target_dist_by_feature(df, feature, entire_df = training_data):\n",
    "    print(entire_df.groupby(feature).agg({\"target\":np.mean}).reset_index(), \"\\n\")\n",
    "    print(sns.boxplot(x = feature, y = \"target\", data=df))\n",
    "    g = sns.FacetGrid(df, col=feature)\n",
    "    print(g.map(plt.hist, \"target\"))"
   ]
  },
  {
   "cell_type": "code",
   "execution_count": 95,
   "metadata": {
    "collapsed": false
   },
   "outputs": [
    {
     "name": "stdout",
     "output_type": "stream",
     "text": [
      "   feature_1    target\n",
      "0          1 -0.315476\n",
      "1          2 -0.350452\n",
      "2          3 -0.377533\n",
      "3          4 -0.404652\n",
      "4          5 -0.499879 \n",
      "\n",
      "AxesSubplot(0.125,0.125;0.775x0.755)\n",
      "<seaborn.axisgrid.FacetGrid object at 0x1177f39e8>\n"
     ]
    },
    {
     "data": {
      "image/png": "[encoded data removed]",
      "text/plain": [
       "<Figure size 432x288 with 1 Axes>"
      ]
     },
     "metadata": {
      "needs_background": "light"
     },
     "output_type": "display_data"
    },
    {
     "data": {
      "image/png": "[encoded data removed]",
      "text/plain": [
       "<Figure size 1080x216 with 5 Axes>"
      ]
     },
     "metadata": {
      "needs_background": "light"
     },
     "output_type": "display_data"
    }
   ],
   "source": [
    "target_dist_by_feature(training_data_excluding_outliers, \"feature_1\")"
   ]
  },
  {
   "cell_type": "code",
   "execution_count": 96,
   "metadata": {
    "collapsed": false
   },
   "outputs": [
    {
     "name": "stdout",
     "output_type": "stream",
     "text": [
      "   feature_2    target\n",
      "0          1 -0.398675\n",
      "1          2 -0.332899\n",
      "2          3 -0.501889 \n",
      "\n",
      "AxesSubplot(0.125,0.125;0.775x0.755)\n",
      "<seaborn.axisgrid.FacetGrid object at 0x113cd2780>\n"
     ]
    },
    {
     "data": {
      "image/png": "[encoded data removed]",
      "text/plain": [
       "<Figure size 432x288 with 1 Axes>"
      ]
     },
     "metadata": {
      "needs_background": "light"
     },
     "output_type": "display_data"
    },
    {
     "data": {
      "image/png": "[encoded data removed]",
      "text/plain": [
       "<Figure size 648x216 with 3 Axes>"
      ]
     },
     "metadata": {
      "needs_background": "light"
     },
     "output_type": "display_data"
    }
   ],
   "source": [
    "target_dist_by_feature(training_data_excluding_outliers, \"feature_2\")"
   ]
  },
  {
   "cell_type": "code",
   "execution_count": 97,
   "metadata": {
    "collapsed": false
   },
   "outputs": [
    {
     "name": "stdout",
     "output_type": "stream",
     "text": [
      "   feature_3    target\n",
      "0          0 -0.357939\n",
      "1          1 -0.421057 \n",
      "\n",
      "AxesSubplot(0.125,0.125;0.775x0.755)\n",
      "<seaborn.axisgrid.FacetGrid object at 0x118fbf518>\n"
     ]
    },
    {
     "data": {
      "image/png": "[encoded data removed]",
      "text/plain": [
       "<Figure size 432x288 with 1 Axes>"
      ]
     },
     "metadata": {
      "needs_background": "light"
     },
     "output_type": "display_data"
    },
    {
     "data": {
      "image/png": "[encoded data removed]",
      "text/plain": [
       "<Figure size 432x216 with 2 Axes>"
      ]
     },
     "metadata": {
      "needs_background": "light"
     },
     "output_type": "display_data"
    }
   ],
   "source": [
    "target_dist_by_feature(training_data_excluding_outliers, \"feature_3\")"
   ]
  }
 ],
 "metadata": {
  "kernelspec": {
   "display_name": "Python 3",
   "language": "python",
   "name": "python3"
  },
  "language_info": {
   "codemirror_mode": {
    "name": "ipython",
    "version": 3
   },
   "file_extension": ".py",
   "mimetype": "text/x-python",
   "name": "python",
   "nbconvert_exporter": "python",
   "pygments_lexer": "ipython3",
   "version": "3.7.0"
  }
 },
 "nbformat": 4,
 "nbformat_minor": 2
}
